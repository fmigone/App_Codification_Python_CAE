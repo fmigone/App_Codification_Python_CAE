{
  "nbformat": 4,
  "nbformat_minor": 0,
  "metadata": {
    "language_info": {
      "name": "python",
      "codemirror_mode": {
        "name": "ipython",
        "version": 3
      },
      "version": "3.7.5-final"
    },
    "orig_nbformat": 2,
    "file_extension": ".py",
    "mimetype": "text/x-python",
    "name": "python",
    "npconvert_exporter": "python",
    "pygments_lexer": "ipython3",
    "version": 3,
    "kernelspec": {
      "name": "python37564bitmltutorialpipenv54fda35411444aa38d11801a98b06adc",
      "display_name": "Python 3.7.5 64-bit ('ml_tutorial': pipenv)"
    },
    "colab": {
      "name": "ml_tutorial.ipynb",
      "provenance": [],
      "collapsed_sections": [],
      "include_colab_link": true
    }
  },
  "cells": [
    {
      "cell_type": "markdown",
      "metadata": {
        "id": "view-in-github",
        "colab_type": "text"
      },
      "source": [
        "<a href=\"https://colab.research.google.com/github/fmigone/App_Codification_Python_CAE/blob/main/ml_tutorial.ipynb\" target=\"_parent\"><img src=\"https://colab.research.google.com/assets/colab-badge.svg\" alt=\"Open In Colab\"/></a>"
      ]
    },
    {
      "cell_type": "markdown",
      "metadata": {
        "id": "lrP7xhloe_AI"
      },
      "source": [
        "We have to import all the python libraries that we will need in our classification."
      ]
    },
    {
      "cell_type": "code",
      "metadata": {
        "id": "CxSUvjINe_AJ"
      },
      "source": [
        "import pandas as pd\n",
        "from sklearn.model_selection import train_test_split\n",
        "from sklearn.feature_extraction.text import CountVectorizer\n",
        "from sklearn.linear_model import LogisticRegression\n",
        "from sklearn.metrics import classification_report"
      ],
      "execution_count": null,
      "outputs": []
    },
    {
      "cell_type": "markdown",
      "metadata": {
        "id": "mR7qyR-2e_AO"
      },
      "source": [
        "Now we read our excel file to the dataframe (a dataframe is a two-dimensional data structure, i.e., data is aligned in a tabular fashion in rows and columns).\n",
        "I have prepared the file with 60 sentences: 20 in polish, 20 in english and 20 in spanish. The task for the classifier is to learn how to classify the sentence to the correct language."
      ]
    },
    {
      "cell_type": "code",
      "metadata": {
        "id": "cOZkknQne_AP"
      },
      "source": [
        "df = pd.read_excel(r'https://github.com/kristhina/ml_tutorial/blob/master/data.xlsx?raw=true')\n",
        "X = df['name']\n",
        "y = df['category']\n",
        "df"
      ],
      "execution_count": null,
      "outputs": []
    },
    {
      "cell_type": "markdown",
      "metadata": {
        "id": "hRr8pL74e_AT"
      },
      "source": [
        "We have to divide our dataset into train and test group. In the case below the test group size will be 30% of all provided data."
      ]
    },
    {
      "cell_type": "code",
      "metadata": {
        "id": "fgUv7op4e_AU"
      },
      "source": [
        "X_train, X_test, y_train, y_test = train_test_split(X, y, test_size=0.3, random_state=4)"
      ],
      "execution_count": null,
      "outputs": []
    },
    {
      "cell_type": "markdown",
      "metadata": {
        "id": "iGL9AcORe_AX"
      },
      "source": [
        "In order to classify text you have to vectorize it (every word is represented by 0 if it does not occur in the sentence and 1 if it occurs)."
      ]
    },
    {
      "cell_type": "code",
      "metadata": {
        "id": "7WCqjfTPe_AY"
      },
      "source": [
        "vectorizer = CountVectorizer()\n",
        "vectorizer.fit(X_train)\n",
        "X_train=vectorizer.transform(X_train)"
      ],
      "execution_count": null,
      "outputs": []
    },
    {
      "cell_type": "markdown",
      "metadata": {
        "id": "ibIeNrTge_Ac"
      },
      "source": [
        "Now we choose the classifier - logistic regression and we train it with our x and y train data."
      ]
    },
    {
      "cell_type": "code",
      "metadata": {
        "id": "kw-Ixf5je_Ad"
      },
      "source": [
        "clf = LogisticRegression()\n",
        "clf.fit(X_train, y_train)"
      ],
      "execution_count": null,
      "outputs": []
    },
    {
      "cell_type": "markdown",
      "metadata": {
        "id": "sPtHZ6j3e_Ah"
      },
      "source": [
        "And we are ready to test our classifier with the x test data."
      ]
    },
    {
      "cell_type": "code",
      "metadata": {
        "id": "QQNajGEXe_Ai"
      },
      "source": [
        "X_test_v = vectorizer.transform(X_test)\n",
        "y_predicted = clf.predict(X_test_v)\n",
        "max_probability = clf.predict_proba(X_test_v).max(axis=1)"
      ],
      "execution_count": null,
      "outputs": []
    },
    {
      "cell_type": "markdown",
      "metadata": {
        "id": "zRLG6wG_e_Am"
      },
      "source": [
        "We can save all the results in one dataframe to show the sentence, correct language, predicted language and the probability of our prediction"
      ]
    },
    {
      "cell_type": "code",
      "metadata": {
        "id": "N8IACe2Le_An"
      },
      "source": [
        "df_results = pd.DataFrame({'sentence' : X_test, 'correct category' : y_test, 'predicted category' : y_predicted, 'probability': max_probability})\n",
        "df_results"
      ],
      "execution_count": null,
      "outputs": []
    },
    {
      "cell_type": "markdown",
      "metadata": {
        "id": "K3m8Yi0fe_Ar"
      },
      "source": [
        "We can also see the classification report (with precision, recall, F1-score and accuracy)"
      ]
    },
    {
      "cell_type": "code",
      "metadata": {
        "id": "E1N77rMge_Ar"
      },
      "source": [
        "print(classification_report(y_test, y_predicted))"
      ],
      "execution_count": null,
      "outputs": []
    },
    {
      "cell_type": "markdown",
      "metadata": {
        "id": "oGnERUP6e_Ax"
      },
      "source": [
        "And now it is the time to enter our own sentence to classify."
      ]
    },
    {
      "cell_type": "code",
      "metadata": {
        "id": "Wwwlmr70e_Ay"
      },
      "source": [
        "sentence_to_classify = input('enter the sentence to classify (in polish, english or spanish): ')"
      ],
      "execution_count": null,
      "outputs": []
    },
    {
      "cell_type": "markdown",
      "metadata": {
        "id": "jV-mq79Pe_A1"
      },
      "source": [
        "We have to change it in the vectorized list."
      ]
    },
    {
      "cell_type": "code",
      "metadata": {
        "id": "pHFX3N-he_A2"
      },
      "source": [
        "list_to_predict = list()\n",
        "list_to_predict.append(sentence_to_classify)\n",
        "list_to_predict = vectorizer.transform(list_to_predict)"
      ],
      "execution_count": null,
      "outputs": []
    },
    {
      "cell_type": "markdown",
      "metadata": {
        "id": "5NpnE_THe_A6"
      },
      "source": [
        "And now we are ready to predict using our logistic regression classifier."
      ]
    },
    {
      "cell_type": "code",
      "metadata": {
        "id": "0--zIYSte_A6"
      },
      "source": [
        "predicted = clf.predict(list_to_predict)[0]\n",
        "predicted_probability = clf.predict_proba(list_to_predict)\n",
        "best_predicted_probability = round(predicted_probability.max(axis=1)[0],4)"
      ],
      "execution_count": null,
      "outputs": []
    },
    {
      "cell_type": "code",
      "metadata": {
        "id": "jY2KnaDNe_A9"
      },
      "source": [
        "print(\"You have written the sentence: {}\".format(sentence_to_classify))\n",
        "print(\"We predict that this is sentence in {} with the probability {}.\".format(predicted, best_predicted_probability))"
      ],
      "execution_count": null,
      "outputs": []
    }
  ]
}